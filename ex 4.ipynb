{
 "cells": [
  {
   "cell_type": "code",
   "execution_count": 1,
   "id": "103fc917-83df-4803-80ea-387a0bd1f62b",
   "metadata": {},
   "outputs": [
    {
     "name": "stdout",
     "output_type": "stream",
     "text": [
      "Weights: [[5.13607423]\n",
      " [5.13607425]]\n",
      "Bias: -7.7984793971029855\n",
      "Input: [0 0], Prediction: [0.00041019]\n",
      "Input: [0 1], Prediction: [0.06522853]\n",
      "Input: [1 1], Prediction: [0.92227519]\n",
      "Input: [1 0], Prediction: [0.06522853]\n"
     ]
    }
   ],
   "source": [
    "import numpy as np\n",
    "\n",
    "# Input and output data\n",
    "input_data = np.array([[0, 0], [0, 1], [1, 1], [1, 0]])\n",
    "output = np.array([[0], [0], [1], [0]])\n",
    "\n",
    "# Initialize weights and bias\n",
    "weights = np.array([[0.1], [0.3]])\n",
    "bias = 0.2\n",
    "learning_rate = 0.05\n",
    "\n",
    "# Sigmoid and derivative functions\n",
    "def sigmoid(x):\n",
    "    return 1 / (1 + np.exp(-x))\n",
    "\n",
    "def sigmoid_derivative(x):\n",
    "    return x * (1 - x)\n",
    "\n",
    "# Training the model\n",
    "for _ in range(15000):\n",
    "    # Forward pass\n",
    "    weighted_sum = np.dot(input_data, weights) + bias\n",
    "    predictions = sigmoid(weighted_sum)\n",
    "\n",
    "    # Backpropagation\n",
    "    error = predictions - output\n",
    "    adjustments = error * sigmoid_derivative(predictions)\n",
    "    weights -= learning_rate * np.dot(input_data.T, adjustments)\n",
    "    bias -= learning_rate * np.sum(adjustments)\n",
    "\n",
    "# Print final weights and bias\n",
    "print(\"Weights:\", weights)\n",
    "print(\"Bias:\", bias)\n",
    "\n",
    "# Make predictions for each input\n",
    "for pred in input_data:\n",
    "    result = sigmoid(np.dot(pred, weights) + bias)\n",
    "    print(f\"Input: {pred}, Prediction: {result}\")"
   ]
  },
  {
   "cell_type": "code",
   "execution_count": null,
   "id": "853f013e-1e3a-4db5-abac-e90ae837fee7",
   "metadata": {},
   "outputs": [],
   "source": []
  }
 ],
 "metadata": {
  "kernelspec": {
   "display_name": "Python 3 (ipykernel)",
   "language": "python",
   "name": "python3"
  },
  "language_info": {
   "codemirror_mode": {
    "name": "ipython",
    "version": 3
   },
   "file_extension": ".py",
   "mimetype": "text/x-python",
   "name": "python",
   "nbconvert_exporter": "python",
   "pygments_lexer": "ipython3",
   "version": "3.12.3"
  }
 },
 "nbformat": 4,
 "nbformat_minor": 5
}
