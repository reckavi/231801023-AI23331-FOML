{
 "cells": [
  {
   "cell_type": "code",
   "execution_count": 1,
   "id": "e4cec785-efeb-45ef-8585-9ae3242b0405",
   "metadata": {},
   "outputs": [
    {
     "name": "stdout",
     "output_type": "stream",
     "text": [
      "Cluster Centers:\n",
      " [[ 0.54995517  0.28524553  0.96163041 -1.04670366]\n",
      " [ 1.23798946  0.60635612  2.00231725  1.91433481]\n",
      " [ 0.2373546   0.11577163  0.38170444  0.42466382]]\n"
     ]
    }
   ],
   "source": [
    "import numpy as np\n",
    "from sklearn.cluster import KMeans\n",
    "from sklearn.datasets import make_classification\n",
    "\n",
    "X, _ = make_classification(n_samples=100, n_features=4, n_clusters_per_class=1, random_state=42)\n",
    "\n",
    "kmeans = KMeans(n_clusters=3, random_state=42)\n",
    "kmeans.fit(X)\n",
    "\n",
    "print(\"Cluster Centers:\\n\", kmeans.cluster_centers_)"
   ]
  },
  {
   "cell_type": "code",
   "execution_count": null,
   "id": "062bdbd5-667e-4de9-9632-7a8d06c84902",
   "metadata": {},
   "outputs": [],
   "source": []
  }
 ],
 "metadata": {
  "kernelspec": {
   "display_name": "Python 3 (ipykernel)",
   "language": "python",
   "name": "python3"
  },
  "language_info": {
   "codemirror_mode": {
    "name": "ipython",
    "version": 3
   },
   "file_extension": ".py",
   "mimetype": "text/x-python",
   "name": "python",
   "nbconvert_exporter": "python",
   "pygments_lexer": "ipython3",
   "version": "3.12.3"
  }
 },
 "nbformat": 4,
 "nbformat_minor": 5
}
